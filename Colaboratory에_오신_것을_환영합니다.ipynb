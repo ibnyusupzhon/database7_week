{
  "cells": [
    {
      "cell_type": "markdown",
      "metadata": {
        "id": "view-in-github",
        "colab_type": "text"
      },
      "source": [
        "<a href=\"https://colab.research.google.com/github/ibnyusupzhon/database7_week/blob/main/Colaboratory%EC%97%90_%EC%98%A4%EC%8B%A0_%EA%B2%83%EC%9D%84_%ED%99%98%EC%98%81%ED%95%A9%EB%8B%88%EB%8B%A4.ipynb\" target=\"_parent\"><img src=\"https://colab.research.google.com/assets/colab-badge.svg\" alt=\"Open In Colab\"/></a>"
      ]
    },
    {
      "cell_type": "code",
      "source": [
        "from sqlalchemy import create_engine\n",
        "my_conn = create_engine(\"sqlite:////content/my_db.db\")"
      ],
      "metadata": {
        "id": "kXlYnJlPdi62"
      },
      "execution_count": 19,
      "outputs": []
    },
    {
      "cell_type": "code",
      "source": [
        "from sqlalchemy.exc import SQLAlchemyError\n",
        "q=\"SELECT * FROM student WHERE mark BETWEEN 65 AND 75\"\n",
        "try:\n",
        "  r_set=my_conn.execute(q)  \n",
        "  r_list=r_set.fetchall()\n",
        "  for row in r_list:\n",
        "    print(row)\n",
        "except SQLAlchemyError as e:\n",
        "  error=str(e.__dict__['orig'])\n",
        "  print(error)\n",
        "else:\n",
        "  print(\"Total Number of rows : \",len(r_list))"
      ],
      "metadata": {
        "id": "vK3XfzkgdrJu",
        "outputId": "560da29c-ef3d-4c35-edf9-77e4fbbf1378",
        "colab": {
          "base_uri": "https://localhost:8080/"
        }
      },
      "execution_count": 20,
      "outputs": [
        {
          "output_type": "stream",
          "name": "stdout",
          "text": [
            "(1, 'John Deo', 'Four', 75, 'female')\n",
            "(18, 'Honny', 'Five', 75, 'male')\n",
            "(20, 'Jackly', 'Nine', 65, 'female')\n",
            "(21, 'Babby John', 'Four', 69, 'female')\n",
            "(34, 'Gain Toe', 'Seven', 69, 'male')\n",
            "Total Number of rows :  5\n"
          ]
        }
      ]
    },
    {
      "cell_type": "code",
      "source": [
        "from sqlalchemy.exc import SQLAlchemyError\n",
        "my_tuple=(65,75)\n",
        "q=\"SELECT * FROM student WHERE mark BETWEEN ? AND ?\"\n",
        "try:\n",
        "  r_set=my_conn.execute(q,my_tuple)  \n",
        "  r_list=r_set.fetchall()\n",
        "  for row in r_list:\n",
        "    print(row)\n",
        "except SQLAlchemyError as e:\n",
        "  error=str(e.__dict__['orig'])\n",
        "  print(error)\n",
        "else:\n",
        "  print(\"Total Number of rows : \",len(r_list))"
      ],
      "metadata": {
        "id": "UN4Y5AJDdspO",
        "outputId": "4bd3be11-9687-465e-8c77-1a036910b946",
        "colab": {
          "base_uri": "https://localhost:8080/"
        }
      },
      "execution_count": 21,
      "outputs": [
        {
          "output_type": "stream",
          "name": "stdout",
          "text": [
            "(1, 'John Deo', 'Four', 75, 'female')\n",
            "(18, 'Honny', 'Five', 75, 'male')\n",
            "(20, 'Jackly', 'Nine', 65, 'female')\n",
            "(21, 'Babby John', 'Four', 69, 'female')\n",
            "(34, 'Gain Toe', 'Seven', 69, 'male')\n",
            "Total Number of rows :  5\n"
          ]
        }
      ]
    },
    {
      "cell_type": "code",
      "source": [
        "from sqlalchemy.exc import SQLAlchemyError\n",
        "my_tuple=(25,90)\n",
        "q=\"SELECT * FROM student WHERE mark NOT BETWEEN ? AND ?\"\n",
        "try:\n",
        "  r_set=my_conn.execute(q,my_tuple)  \n",
        "  r_list=r_set.fetchall()\n",
        "  for row in r_list:\n",
        "    print(row)\n",
        "except SQLAlchemyError as e:\n",
        "  error=str(e.__dict__['orig'])\n",
        "  print(error)\n",
        "else:\n",
        "  print(\"Total Number of rows : \",len(r_list))"
      ],
      "metadata": {
        "id": "nbIUv1Vldunl",
        "outputId": "2c169f10-897a-4a1b-e2ac-fe8d0e8bf48f",
        "colab": {
          "base_uri": "https://localhost:8080/"
        }
      },
      "execution_count": 22,
      "outputs": [
        {
          "output_type": "stream",
          "name": "stdout",
          "text": [
            "(12, 'Recky', 'Six', 94, 'female')\n",
            "(19, 'Tinny', 'Nine', 18, 'male')\n",
            "(33, 'Kenn Rein', 'Six', 96, 'female')\n",
            "Total Number of rows :  3\n"
          ]
        }
      ]
    },
    {
      "cell_type": "code",
      "source": [
        "from sqlalchemy.exc import SQLAlchemyError\n",
        "my_tuple=(25,90)\n",
        "q=\"SELECT * FROM student WHERE mark NOT BETWEEN ? AND ?\"\n",
        "try:\n",
        "  r_set=my_conn.execute(q,my_tuple)  \n",
        "  r_list=r_set.fetchall()\n",
        "  for row in r_list:\n",
        "    print(row)\n",
        "except SQLAlchemyError as e:\n",
        "  error=str(e.__dict__['orig'])\n",
        "  print(error)\n",
        "else:\n",
        "  print(\"Total Number of rows : \",len(r_list))"
      ],
      "metadata": {
        "id": "fsIvm-GKdxVe",
        "outputId": "3d8070fe-03e3-4fa1-c08c-876d8b7fe57a",
        "colab": {
          "base_uri": "https://localhost:8080/"
        }
      },
      "execution_count": 23,
      "outputs": [
        {
          "output_type": "stream",
          "name": "stdout",
          "text": [
            "(12, 'Recky', 'Six', 94, 'female')\n",
            "(19, 'Tinny', 'Nine', 18, 'male')\n",
            "(33, 'Kenn Rein', 'Six', 96, 'female')\n",
            "Total Number of rows :  3\n"
          ]
        }
      ]
    },
    {
      "cell_type": "code",
      "source": [
        "from sqlalchemy.exc import SQLAlchemyError\n",
        "q=\"SELECT * FROM student ORDER BY class,mark DESC\"\n",
        "try:\n",
        "  r_set=my_conn.execute(q)  \n",
        "  r_list=r_set.fetchall()\n",
        "  for rows in r_list:\n",
        "    print(rows)\n",
        "except SQLAlchemyError as e:\n",
        "  error=str(e.__dict__['orig'])\n",
        "  print(error)\n",
        "else:\n",
        "  print(\"Total Number of rows : \",len(r_list))"
      ],
      "metadata": {
        "id": "ARENE-P1dzVG",
        "outputId": "01c433b7-d79e-446a-ce4b-9266f06f4016",
        "colab": {
          "base_uri": "https://localhost:8080/"
        }
      },
      "execution_count": 24,
      "outputs": [
        {
          "output_type": "stream",
          "name": "stdout",
          "text": [
            "(23, 'Herod', 'Eight', 79, 'male')\n",
            "(8, 'Asruid', 'Five', 85, 'male')\n",
            "(7, 'My John Rob', 'Five', 78, 'male')\n",
            "(18, 'Honny', 'Five', 75, 'male')\n",
            "(15, 'Tade Row', 'Four', 88, 'male')\n",
            "(16, 'Gimmy', 'Four', 88, 'male')\n",
            "(31, 'Marry Toeey', 'Four', 88, 'male')\n",
            "(1, 'John Deo', 'Four', 75, 'female')\n",
            "(21, 'Babby John', 'Four', 69, 'female')\n",
            "(4, 'Krish Star', 'Four', 60, 'female')\n",
            "(5, 'John Mike', 'Four', 60, 'female')\n",
            "(6, 'Alex John', 'Four', 55, 'male')\n",
            "(10, 'Big John', 'Four', 55, 'female')\n",
            "(20, 'Jackly', 'Nine', 65, 'female')\n",
            "(19, 'Tinny', 'Nine', 18, 'male')\n",
            "(32, 'Binn Rott', 'Seven', 90, 'female')\n",
            "(13, 'Kty', 'Seven', 88, 'female')\n",
            "(14, 'Bigy', 'Seven', 88, 'female')\n",
            "(25, 'Giff Tow', 'Seven', 88, 'male')\n",
            "(28, 'Rojj Base', 'Seven', 86, 'female')\n",
            "(26, 'Crelea', 'Seven', 79, 'male')\n",
            "(24, 'Tiddy Now', 'Seven', 78, 'male')\n",
            "(34, 'Gain Toe', 'Seven', 69, 'male')\n",
            "(22, 'Reggid', 'Seven', 55, 'female')\n",
            "(29, 'Tess Played', 'Seven', 55, 'male')\n",
            "(33, 'Kenn Rein', 'Six', 96, 'female')\n",
            "(12, 'Recky', 'Six', 94, 'female')\n",
            "(11, 'Ronald', 'Six', 89, 'female')\n",
            "(35, 'Rows Noump', 'Six', 88, 'female')\n",
            "(30, 'Reppy Red', 'Six', 79, 'female')\n",
            "(9, 'Tes Qry', 'Six', 78, 'male')\n",
            "(17, 'Tumyu', 'Six', 54, 'male')\n",
            "(2, 'Max Ruin', 'Three', 85, 'male')\n",
            "(27, 'Big Nose', 'Three', 81, 'female')\n",
            "(3, 'Arnold', 'Three', 55, 'male')\n",
            "Total Number of rows :  35\n"
          ]
        }
      ]
    },
    {
      "cell_type": "code",
      "source": [
        "from sqlalchemy.exc import SQLAlchemyError\n",
        "q=\"SELECT * FROM student WHERE class='Five' ORDER BY mark DESC\"\n",
        "try:\n",
        "  r_set=my_conn.execute(q)  \n",
        "  r_list=r_set.fetchall()\n",
        "  for rows in r_list:\n",
        "    print(rows)\n",
        "except SQLAlchemyError as e:\n",
        "  error=str(e.__dict__['orig'])\n",
        "  print(error)\n",
        "else:\n",
        "  print(\"Total Number of rows : \",len(r_list))"
      ],
      "metadata": {
        "id": "58GsTTCid1Le",
        "outputId": "b2ef3778-51ca-4973-8d76-c7175b041976",
        "colab": {
          "base_uri": "https://localhost:8080/"
        }
      },
      "execution_count": 25,
      "outputs": [
        {
          "output_type": "stream",
          "name": "stdout",
          "text": [
            "(8, 'Asruid', 'Five', 85, 'male')\n",
            "(7, 'My John Rob', 'Five', 78, 'male')\n",
            "(18, 'Honny', 'Five', 75, 'male')\n",
            "Total Number of rows :  3\n"
          ]
        }
      ]
    },
    {
      "cell_type": "code",
      "source": [
        "from sqlalchemy.exc import SQLAlchemyError\n",
        "q=\"SELECT * FROM student WHERE class='Five' ORDER BY mark DESC LIMIT 1,1\"\n",
        "try:\n",
        "  r_set=my_conn.execute(q)  \n",
        "  r_list=r_set.fetchall()\n",
        "  for rows in r_list:\n",
        "    print(rows)\n",
        "except SQLAlchemyError as e:\n",
        "  error=str(e.__dict__['orig'])\n",
        "  print(error)\n",
        "else:\n",
        "  print(\"Total Number of rows : \",len(r_list))"
      ],
      "metadata": {
        "id": "gH59IM6_d3w1",
        "outputId": "b9f326db-fcfe-43ae-b68d-64c0c0fd32ae",
        "colab": {
          "base_uri": "https://localhost:8080/"
        }
      },
      "execution_count": 26,
      "outputs": [
        {
          "output_type": "stream",
          "name": "stdout",
          "text": [
            "(7, 'My John Rob', 'Five', 78, 'male')\n",
            "Total Number of rows :  1\n"
          ]
        }
      ]
    },
    {
      "cell_type": "code",
      "source": [
        "import sqlite3\n",
        "from employee import Employee\n",
        "\n",
        "conn = sqlite3.connect(':memory:')\n",
        "\n",
        "c = conn.cursor()\n",
        "\n",
        "c.execute(\"\"\"CREATE TABLE employees (\n",
        "            first text,\n",
        "            last text,\n",
        "            pay integer\n",
        "            )\"\"\")\n",
        "\n",
        "\n",
        "def insert_emp(emp):\n",
        "    with conn:\n",
        "        c.execute(\"INSERT INTO employees VALUES (:first, :last, :pay)\", {'first': emp.first, 'last': emp.last, 'pay': emp.pay})\n",
        "\n",
        "\n",
        "def get_emps_by_name(lastname):\n",
        "    c.execute(\"SELECT * FROM employees WHERE last=:last\", {'last': lastname})\n",
        "    return c.fetchall()\n",
        "\n",
        "\n",
        "def update_pay(emp, pay):\n",
        "    with conn:\n",
        "        c.execute(\"\"\"UPDATE employees SET pay = :pay\n",
        "                    WHERE first = :first AND last = :last\"\"\",\n",
        "                  {'first': emp.first, 'last': emp.last, 'pay': pay})\n",
        "\n",
        "\n",
        "def remove_emp(emp):\n",
        "    with conn:\n",
        "        c.execute(\"DELETE from employees WHERE first = :first AND last = :last\",\n",
        "                  {'first': emp.first, 'last': emp.last})\n",
        "\n",
        "emp_1 = Employee('John', 'Doe', 80000)\n",
        "emp_2 = Employee('Jane', 'Doe', 90000)\n",
        "\n",
        "insert_emp(emp_1)\n",
        "insert_emp(emp_2)\n",
        "\n",
        "emps = get_emps_by_name('Doe')\n",
        "print(emps)\n",
        "\n",
        "update_pay(emp_2, 95000)\n",
        "remove_emp(emp_1)\n",
        "\n",
        "emps = get_emps_by_name('Doe')\n",
        "print(emps)\n",
        "\n",
        "conn.close()"
      ],
      "metadata": {
        "id": "wsC6-no2d59d",
        "outputId": "a9cad894-2e9e-4f2e-e364-df814ff545c7",
        "colab": {
          "base_uri": "https://localhost:8080/",
          "height": 394
        }
      },
      "execution_count": 31,
      "outputs": [
        {
          "output_type": "error",
          "ename": "ModuleNotFoundError",
          "evalue": "ignored",
          "traceback": [
            "\u001b[0;31m---------------------------------------------------------------------------\u001b[0m",
            "\u001b[0;31mModuleNotFoundError\u001b[0m                       Traceback (most recent call last)",
            "\u001b[0;32m<ipython-input-31-4d388fea799f>\u001b[0m in \u001b[0;36m<module>\u001b[0;34m\u001b[0m\n\u001b[1;32m      1\u001b[0m \u001b[0;32mimport\u001b[0m \u001b[0msqlite3\u001b[0m\u001b[0;34m\u001b[0m\u001b[0;34m\u001b[0m\u001b[0m\n\u001b[0;32m----> 2\u001b[0;31m \u001b[0;32mfrom\u001b[0m \u001b[0memployee\u001b[0m \u001b[0;32mimport\u001b[0m \u001b[0mEmployee\u001b[0m\u001b[0;34m\u001b[0m\u001b[0;34m\u001b[0m\u001b[0m\n\u001b[0m\u001b[1;32m      3\u001b[0m \u001b[0;34m\u001b[0m\u001b[0m\n\u001b[1;32m      4\u001b[0m \u001b[0mconn\u001b[0m \u001b[0;34m=\u001b[0m \u001b[0msqlite3\u001b[0m\u001b[0;34m.\u001b[0m\u001b[0mconnect\u001b[0m\u001b[0;34m(\u001b[0m\u001b[0;34m':memory:'\u001b[0m\u001b[0;34m)\u001b[0m\u001b[0;34m\u001b[0m\u001b[0;34m\u001b[0m\u001b[0m\n\u001b[1;32m      5\u001b[0m \u001b[0;34m\u001b[0m\u001b[0m\n",
            "\u001b[0;31mModuleNotFoundError\u001b[0m: No module named 'employee'",
            "",
            "\u001b[0;31m---------------------------------------------------------------------------\u001b[0;32m\nNOTE: If your import is failing due to a missing package, you can\nmanually install dependencies using either !pip or !apt.\n\nTo view examples of installing some common dependencies, click the\n\"Open Examples\" button below.\n\u001b[0;31m---------------------------------------------------------------------------\u001b[0m\n"
          ],
          "errorDetails": {
            "actions": [
              {
                "action": "open_url",
                "actionText": "Open Examples",
                "url": "/notebooks/snippets/importing_libraries.ipynb"
              }
            ]
          }
        }
      ]
    }
  ],
  "metadata": {
    "colab": {
      "collapsed_sections": [],
      "name": "Colaboratory에 오신 것을 환영합니다",
      "provenance": [],
      "history_visible": true,
      "include_colab_link": true
    },
    "kernelspec": {
      "display_name": "Python 3",
      "name": "python3"
    }
  },
  "nbformat": 4,
  "nbformat_minor": 0
}